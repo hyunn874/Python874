{
 "cells": [
  {
   "cell_type": "code",
   "execution_count": 1,
   "metadata": {},
   "outputs": [],
   "source": [
    "import turtle\n",
    "\n",
    "t = turtle.Turtle()\n",
    "\n",
    "# turtle.setup(1280, 960)\n",
    "# turtle.screensize(400, 300)\n",
    "t.speed(\"slow\")\n",
    "t.shape(\"turtle\")\n",
    "t.turtlesize(2)\n",
    "t.color(\"green\")\n",
    "t.pencolor(\"blue\")\n",
    "t.screen.bgcolor(\"aqua\")\n",
    "\n",
    "for j in range(8):\n",
    "    for i in range(4):\n",
    "        t.forward(200)\n",
    "        t.left(90)\n",
    "\n",
    "    t.left(45)\n",
    "\n",
    "\n",
    "turtle.done()"
   ]
  },
  {
   "cell_type": "markdown",
   "metadata": {},
   "source": [
    "![alt text](image.png)"
   ]
  }
 ],
 "metadata": {
  "kernelspec": {
   "display_name": "base",
   "language": "python",
   "name": "python3"
  },
  "language_info": {
   "codemirror_mode": {
    "name": "ipython",
    "version": 3
   },
   "file_extension": ".py",
   "mimetype": "text/x-python",
   "name": "python",
   "nbconvert_exporter": "python",
   "pygments_lexer": "ipython3",
   "version": "3.9.23"
  }
 },
 "nbformat": 4,
 "nbformat_minor": 2
}
